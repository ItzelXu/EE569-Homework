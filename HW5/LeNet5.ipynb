{
 "cells": [
  {
   "cell_type": "markdown",
   "metadata": {},
   "source": [
    "# CIFAR-10 Classification by LeNet 5"
   ]
  },
  {
   "cell_type": "markdown",
   "metadata": {},
   "source": [
    "Import Libraries"
   ]
  },
  {
   "cell_type": "code",
   "execution_count": 1,
   "metadata": {},
   "outputs": [
    {
     "name": "stderr",
     "output_type": "stream",
     "text": [
      "Using TensorFlow backend.\n"
     ]
    }
   ],
   "source": [
    "import os\n",
    "import keras\n",
    "import pickle\n",
    "import numpy as np\n",
    "import matplotlib.pyplot as plt\n",
    "from keras.utils import plot_model\n",
    "from keras.layers import Dense,Flatten,Dropout\n",
    "from keras.utils.np_utils import to_categorical\n",
    "from keras.layers.convolutional import Conv2D,MaxPooling2D\n",
    "%matplotlib inline"
   ]
  },
  {
   "cell_type": "markdown",
   "metadata": {},
   "source": [
    "Define Functions.\n",
    "Read Datasets In"
   ]
  },
  {
   "cell_type": "code",
   "execution_count": 2,
   "metadata": {},
   "outputs": [],
   "source": [
    "#Load File Function\n",
    "def load_file(fileName):\n",
    "    data = open(fileName, 'rb')\n",
    "    cifar = pickle.load(data, encoding='bytes')\n",
    "    return cifar\n",
    "\n",
    "#Load Batch Files\n",
    "def get_Batch(fileName):\n",
    "    imageDict = load_file(fileName)\n",
    "    data = imageDict[b'data']\n",
    "    label = imageDict[b'labels']\n",
    "    #Reshap Images\n",
    "    data = data.reshape(10000,3,32,32)\n",
    "    data = data.transpose(0,2,3,1).astype(\"float\")\n",
    "    label = np.array(label)\n",
    "    return data,label\n",
    "\n",
    "#Get All DataSets\n",
    "def get_DataSet(rootPath):\n",
    "    trainX = []\n",
    "    trainY = []\n",
    "    for i in range(1,6):\n",
    "        fileName = os.path.join(rootPath, 'data_batch_%d' % (i, ))\n",
    "        data, label = get_Batch(fileName)\n",
    "        trainX.append(data)\n",
    "        trainY.append(label)\n",
    "    #Combine 6 Training Sets\n",
    "    trainData = np.concatenate(trainX)\n",
    "    trainLabel = np.concatenate(trainY)\n",
    "    #Do the Image Normalization\n",
    "    return trainData/255, trainLabel\n",
    "\n",
    "#Get Test Sets\n",
    "def get_TestSet(rootPath):\n",
    "    testX = []\n",
    "    testY = []\n",
    "    fileName = os.path.join(rootPath, 'test_batch')\n",
    "    data, label = get_Batch(fileName)\n",
    "    testX.append(data)\n",
    "    testY.append(label)  \n",
    "    testData = np.concatenate(testX)\n",
    "    testLabel = np.concatenate(testY)\n",
    "    #Do the Image Normalization\n",
    "    return testData/255, testLabel\n",
    "\n",
    "#Plot Accuracy Method\n",
    "def plot_Accuracy(history,rate,batch,epoch):\n",
    "    trainAcc = history.history['accuracy']\n",
    "    testAcc = history.history['val_accuracy']\n",
    "    fig1 = plt.figure()\n",
    "    plt.plot(trainAcc)\n",
    "    plt.plot(testAcc)\n",
    "    plt.title('LeNet-5 Test Accuracy r='+str(rate)+' b='+str(batch)+' e='+str(epoch))\n",
    "    plt.ylabel('Accuracy')\n",
    "    plt.xlabel('Number of Epoch')\n",
    "    plt.legend(['Train','Test'], loc='upper right')\n",
    "    plt.show()\n",
    "    fig1.savefig('acc.png')\n",
    "\n",
    "#Plot Loss Method\n",
    "def plot_Loss(history,rate,batch,epoch):\n",
    "    trainLoss = history.history['loss']\n",
    "    testLoss = history.history['val_loss']\n",
    "    fig2 = plt.figure()\n",
    "    plt.plot(trainLoss)\n",
    "    plt.plot(testLoss)\n",
    "    plt.title('LeNet-5 Test Loss r='+str(rate)+' b='+str(batch)+' e='+str(epoch))\n",
    "    plt.ylabel('Loss')\n",
    "    plt.xlabel('Number of Epoch')\n",
    "    plt.legend(['Train','Test'], loc='upper right')\n",
    "    plt.show()\n",
    "    fig2.savefig('loss.png')"
   ]
  },
  {
   "cell_type": "markdown",
   "metadata": {},
   "source": [
    "Read Data"
   ]
  },
  {
   "cell_type": "code",
   "execution_count": 3,
   "metadata": {},
   "outputs": [],
   "source": [
    "dataPath = './cifar-10-batches-py'\n",
    "trainData, trainLabel = get_DataSet(dataPath)\n",
    "testData, testLabel = get_TestSet(dataPath)\n",
    "testLabel = to_categorical(testLabel)\n",
    "trainLabel = to_categorical(trainLabel)"
   ]
  },
  {
   "cell_type": "markdown",
   "metadata": {},
   "source": [
    "Define the Parameters"
   ]
  },
  {
   "cell_type": "code",
   "execution_count": 4,
   "metadata": {},
   "outputs": [],
   "source": [
    "filterNum1 = 6\n",
    "filterNum2 = 16\n",
    "filterSize = (5,5)\n",
    "poolingSize = (2,2)\n",
    "learningRate = 0.0005\n",
    "batchSize = 128\n",
    "epochNum = 35\n",
    "fcNum1 = 120\n",
    "fcNum2 = 84\n",
    "dropFactor1 = 0.33\n",
    "dropFactor2 = 0.33"
   ]
  },
  {
   "cell_type": "markdown",
   "metadata": {},
   "source": [
    "Lenet Contruction Function"
   ]
  },
  {
   "cell_type": "code",
   "execution_count": 5,
   "metadata": {},
   "outputs": [],
   "source": [
    "def LeNet(trainData,trainLabel):\n",
    "    lenet = keras.models.Sequential()\n",
    "    lenet.add(Conv2D(filterNum1,filterSize,input_shape=trainData.shape[1:],activation='relu', \n",
    "                     kernel_initializer = 'random_uniform'))\n",
    "    lenet.add(MaxPooling2D(poolingSize))\n",
    "    lenet.add(Conv2D(filterNum2,filterSize,activation='relu',kernel_initializer = 'random_uniform'))\n",
    "    lenet.add(MaxPooling2D(poolingSize))\n",
    "    lenet.add(Flatten())\n",
    "    lenet.add(Dense(fcNum1,activation='relu'))\n",
    "    lenet.add(Dropout(dropFactor1))\n",
    "    lenet.add(Dense(fcNum2,activation='relu'))\n",
    "    lenet.add(Dropout(dropFactor2))\n",
    "    lenet.add(Dense(10,activation='softmax'))\n",
    "    #Print Parameters\n",
    "    lenet.summary()\n",
    "    #Compile Parameters\n",
    "    adamOp = keras.optimizers.Adam(learning_rate=learningRate)\n",
    "    lenet.compile(optimizer=adamOp,metrics=['accuracy'],loss='categorical_crossentropy')\n",
    "\n",
    "    return lenet"
   ]
  },
  {
   "cell_type": "markdown",
   "metadata": {},
   "source": [
    "Main Function"
   ]
  },
  {
   "cell_type": "code",
   "execution_count": 6,
   "metadata": {
    "scrolled": true
   },
   "outputs": [
    {
     "ename": "NameError",
     "evalue": "name 'models' is not defined",
     "output_type": "error",
     "traceback": [
      "\u001b[0;31m---------------------------------------------------------------------------\u001b[0m",
      "\u001b[0;31mNameError\u001b[0m                                 Traceback (most recent call last)",
      "\u001b[0;32m<ipython-input-6-ef4265b6ce64>\u001b[0m in \u001b[0;36m<module>\u001b[0;34m()\u001b[0m\n\u001b[0;32m----> 1\u001b[0;31m \u001b[0mlenet5\u001b[0m\u001b[0;34m=\u001b[0m\u001b[0mLeNet\u001b[0m\u001b[0;34m(\u001b[0m\u001b[0mtrainData\u001b[0m\u001b[0;34m,\u001b[0m \u001b[0mtrainLabel\u001b[0m\u001b[0;34m)\u001b[0m\u001b[0;34m\u001b[0m\u001b[0m\n\u001b[0m\u001b[1;32m      2\u001b[0m history=lenet5.fit(x=trainData,y=trainLabel,batch_size=batchSize,epochs=epochNum,shuffle=True,\n\u001b[1;32m      3\u001b[0m           validation_data=(testData, testLabel))\n",
      "\u001b[0;32m<ipython-input-5-90a18d0ee99a>\u001b[0m in \u001b[0;36mLeNet\u001b[0;34m(trainData, trainLabel)\u001b[0m\n\u001b[1;32m      1\u001b[0m \u001b[0;32mdef\u001b[0m \u001b[0mLeNet\u001b[0m\u001b[0;34m(\u001b[0m\u001b[0mtrainData\u001b[0m\u001b[0;34m,\u001b[0m\u001b[0mtrainLabel\u001b[0m\u001b[0;34m)\u001b[0m\u001b[0;34m:\u001b[0m\u001b[0;34m\u001b[0m\u001b[0m\n\u001b[0;32m----> 2\u001b[0;31m     \u001b[0mlenet\u001b[0m \u001b[0;34m=\u001b[0m \u001b[0mmodels\u001b[0m\u001b[0;34m.\u001b[0m\u001b[0mSequential\u001b[0m\u001b[0;34m(\u001b[0m\u001b[0;34m)\u001b[0m\u001b[0;34m\u001b[0m\u001b[0m\n\u001b[0m\u001b[1;32m      3\u001b[0m     lenet.add(Conv2D(filterNum1,filterSize,input_shape=trainData.shape[1:],activation='relu', \n\u001b[1;32m      4\u001b[0m                      kernel_initializer = 'random_uniform'))\n\u001b[1;32m      5\u001b[0m     \u001b[0mlenet\u001b[0m\u001b[0;34m.\u001b[0m\u001b[0madd\u001b[0m\u001b[0;34m(\u001b[0m\u001b[0mMaxPooling2D\u001b[0m\u001b[0;34m(\u001b[0m\u001b[0mpoolingSize\u001b[0m\u001b[0;34m)\u001b[0m\u001b[0;34m)\u001b[0m\u001b[0;34m\u001b[0m\u001b[0m\n",
      "\u001b[0;31mNameError\u001b[0m: name 'models' is not defined"
     ]
    }
   ],
   "source": [
    "lenet5=LeNet(trainData, trainLabel)\n",
    "history=lenet5.fit(x=trainData,y=trainLabel,batch_size=batchSize,epochs=epochNum,shuffle=True,\n",
    "          validation_data=(testData, testLabel))"
   ]
  },
  {
   "cell_type": "code",
   "execution_count": 7,
   "metadata": {},
   "outputs": [
    {
     "name": "stdout",
     "output_type": "stream",
     "text": [
      "10000/10000 [==============================] - 1s 76us/step\n",
      "loss: 1.7496834272384643 acc: 0.3707999885082245\n"
     ]
    }
   ],
   "source": [
    "testLoss,testAcc=lenet5.evaluate(x=testData,y=testLabel)\n",
    "print(\"loss:\",testLoss,\"acc:\",testAcc)"
   ]
  },
  {
   "cell_type": "markdown",
   "metadata": {},
   "source": [
    "Plot Accuracy"
   ]
  },
  {
   "cell_type": "code",
   "execution_count": 8,
   "metadata": {},
   "outputs": [
    {
     "data": {
      "image/png": "[encoded data removed]",
      "text/plain": [
       "<Figure size 432x288 with 1 Axes>"
      ]
     },
     "metadata": {
      "needs_background": "light"
     },
     "output_type": "display_data"
    }
   ],
   "source": [
    "#Accuracy\n",
    "plot_Accuracy(history,learningRate,batchSize,epochNum)"
   ]
  },
  {
   "cell_type": "markdown",
   "metadata": {},
   "source": [
    "Plot Loss"
   ]
  },
  {
   "cell_type": "code",
   "execution_count": 10,
   "metadata": {
    "scrolled": false
   },
   "outputs": [
    {
     "data": {
      "image/png": "[encoded data removed]",
      "text/plain": [
       "<Figure size 432x288 with 1 Axes>"
      ]
     },
     "metadata": {
      "needs_background": "light"
     },
     "output_type": "display_data"
    }
   ],
   "source": [
    "#Loss\n",
    "plot_Loss(history,learningRate,batchSize,epochNum)"
   ]
  },
  {
   "cell_type": "code",
   "execution_count": null,
   "metadata": {},
   "outputs": [],
   "source": []
  }
 ],
 "metadata": {
  "kernelspec": {
   "display_name": "Python 3",
   "language": "python",
   "name": "python3"
  },
  "language_info": {
   "codemirror_mode": {
    "name": "ipython",
    "version": 3
   },
   "file_extension": ".py",
   "mimetype": "text/x-python",
   "name": "python",
   "nbconvert_exporter": "python",
   "pygments_lexer": "ipython3",
   "version": "3.5.6"
  }
 },
 "nbformat": 4,
 "nbformat_minor": 2
}
